{
 "cells": [
  {
   "cell_type": "code",
   "execution_count": 2,
   "id": "interior-collins",
   "metadata": {},
   "outputs": [
    {
     "name": "stderr",
     "output_type": "stream",
     "text": [
      "C:\\Users\\bharg\\anaconda3\\envs\\dev1\\lib\\site-packages\\fuzzywuzzy\\fuzz.py:11: UserWarning: Using slow pure-python SequenceMatcher. Install python-Levenshtein to remove this warning\n",
      "  warnings.warn('Using slow pure-python SequenceMatcher. Install python-Levenshtein to remove this warning')\n"
     ]
    }
   ],
   "source": [
    "import json\n",
    "import os\n",
    "import json\n",
    "from fuzzywuzzy import fuzz, process\n",
    "import pandas as pd\n",
    "import numpy as np\n",
    "import warnings\n",
    "warnings.filterwarnings('ignore')\n",
    "\n",
    "#https://cloud.google.com/document-ai/docs/reference/rest/v1/Document\n",
    "from google.cloud import documentai_v1 as documentai #v0.5.0\n",
    "from google.cloud import storage\n",
    "from google.api_core.client_options import ClientOptions"
   ]
  },
  {
   "cell_type": "markdown",
   "id": "attractive-formula",
   "metadata": {},
   "source": [
    "### Process the documents using DocumentAI"
   ]
  },
  {
   "cell_type": "code",
   "execution_count": 18,
   "id": "continuing-agenda",
   "metadata": {},
   "outputs": [],
   "source": [
    "PROJECT_ID = 'bbsm-dev'\n",
    "LOCATION = 'us'\n",
    "PROCESSOR_ID = \"235601fbdcf02caa\""
   ]
  },
  {
   "cell_type": "code",
   "execution_count": 19,
   "id": "hispanic-coordinator",
   "metadata": {},
   "outputs": [],
   "source": [
    "storage_client = storage.Client()\n",
    "blobs = storage_client.list_blobs(bucket_or_name='bbsm-dev-bucket', prefix='document_ai/output')\n",
    "for blob in blobs:\n",
    "    blob.delete()"
   ]
  },
  {
   "cell_type": "code",
   "execution_count": 20,
   "id": "scheduled-turtle",
   "metadata": {},
   "outputs": [
    {
     "data": {
      "text/plain": []
     },
     "execution_count": 20,
     "metadata": {},
     "output_type": "execute_result"
    }
   ],
   "source": [
    "# You must set the api_endpoint if you use a location other than 'us', e.g.:\n",
    "client_options = ClientOptions()\n",
    "if LOCATION == \"eu\":\n",
    "    client_options = ClientOptions(api_endpoint=\"eu-documentai.googleapis.com\")\n",
    "\n",
    "\n",
    "docai_client = documentai.DocumentProcessorServiceClient(client_options=client_options)\n",
    "processor_name = f\"projects/{PROJECT_ID}/locations/{LOCATION}/processors/{PROCESSOR_ID}\"\n",
    "\n",
    "input_docs = [\"gs://bbsm-dev-bucket/document_ai/sample_docs/inv_1.pdf\",\"gs://bbsm-dev-bucket/document_ai/sample_docs/inv_2.pdf\"]\n",
    "destination_uri = \"gs://bbsm-dev-bucket/document_ai/output\"\n",
    "\n",
    "input_config  = documentai.types.BatchDocumentsInputConfig(\n",
    "    gcs_documents=documentai.types.GcsDocuments(\n",
    "        documents=[documentai.types.GcsDocument(gcs_uri=doc_uri, mime_type=\"application/pdf\") for doc_uri in input_docs]\n",
    "    )\n",
    ")\n",
    "\n",
    "output_config = documentai.types.DocumentOutputConfig(\n",
    "    gcs_output_config=documentai.types.DocumentOutputConfig.GcsOutputConfig(gcs_uri=destination_uri)\n",
    ")\n",
    "request = documentai.types.BatchProcessRequest(\n",
    "    name=processor_name,\n",
    "    input_documents=input_config,\n",
    "    document_output_config=output_config\n",
    ")\n",
    "operation = docai_client.batch_process_documents(request=request)\n",
    "operation.result(timeout=300)"
   ]
  },
  {
   "cell_type": "markdown",
   "id": "handmade-terrorist",
   "metadata": {},
   "source": [
    "### Download the JSON output from GCS"
   ]
  },
  {
   "cell_type": "code",
   "execution_count": 21,
   "id": "smoking-developer",
   "metadata": {},
   "outputs": [],
   "source": [
    "local_file_path = './output/doc_output.json'\n",
    "templates_path = './templates/invoice_template.json'"
   ]
  },
  {
   "cell_type": "code",
   "execution_count": 22,
   "id": "curious-brooklyn",
   "metadata": {},
   "outputs": [
    {
     "name": "stdout",
     "output_type": "stream",
     "text": [
      "gs://bbsm-dev-bucket/document_ai/output/5652862103474603191/0/inv_1-0.json\n"
     ]
    }
   ],
   "source": [
    "# local_file_path = './output/doc_output.json'\n",
    "# templates_path = './templates/invoice_template.json'\n",
    "\n",
    "storage_client = storage.Client()\n",
    "blobs = storage_client.list_blobs(bucket_or_name='bbsm-dev-bucket', prefix='document_ai/output')\n",
    "for blob in blobs:\n",
    "    if blob.name.endswith('.json'):\n",
    "        print('gs://'+blob.bucket.name+'/'+blob.name)\n",
    "        blob.download_to_filename(local_file_path)\n",
    "        blob.delete()\n",
    "        break\n",
    "    else:\n",
    "        blob.delete()\n",
    "\n",
    "# blobs = storage_client.list_blobs(bucket_or_name='bbsm-dev-bucket', prefix='document_ai/output')\n",
    "# for blob in blobs:\n",
    "#     blob.delete()"
   ]
  },
  {
   "cell_type": "code",
   "execution_count": 24,
   "id": "communist-chancellor",
   "metadata": {},
   "outputs": [],
   "source": [
    "with open(local_file_path, 'r') as f:\n",
    "    doc_response = json.load(f)\n",
    "with open(templates_path,'r') as f:\n",
    "    template = json.load(f)"
   ]
  },
  {
   "cell_type": "markdown",
   "id": "fifth-concentration",
   "metadata": {},
   "source": [
    "### Get key-values from output json"
   ]
  },
  {
   "cell_type": "code",
   "execution_count": 25,
   "id": "italic-center",
   "metadata": {},
   "outputs": [],
   "source": [
    "def get_page_dimensions(doc_response):\n",
    "    page_dimension_dict = {}\n",
    "    pages = doc_response['pages']\n",
    "    for idx, page in enumerate(pages):\n",
    "        vertices = page['layout']['boundingPoly']['vertices']\n",
    "        w,h = 0,0\n",
    "        for point in vertices:\n",
    "            w= max(w, point.get('x', 0))\n",
    "            h= max(h, point.get('y',0))\n",
    "        page_dimension_dict[f\"page_{idx+1}\"] = (w,h)\n",
    "    return page_dimension_dict"
   ]
  },
  {
   "cell_type": "code",
   "execution_count": 26,
   "id": "characteristic-yorkshire",
   "metadata": {},
   "outputs": [],
   "source": [
    "def get_bbox_boundaries(vertices, normalized=True, width=None, height=None):\n",
    "    \"\"\"\n",
    "    vertices: [{\"x\":val,\"y\":val},{\"x\":val,\"y\":val},{\"x\":val,\"y\":val},{\"x\":val,\"y\":val}]\n",
    "    \"\"\"\n",
    "    if normalized:\n",
    "        assert width is not None, \"Width is None\"\n",
    "        assert height is not None, \"Height is None\"\n",
    "        x,y = [],[]\n",
    "        for vertex in vertices:\n",
    "            if 'x' in vertex and vertex['x'] not in x:\n",
    "                x.append(int(vertex['x'] * width))\n",
    "            if 'y' in vertex and vertex['y'] not in y:\n",
    "                y.append(int(vertex['y'] * height))\n",
    "        boundaries = [min(x),min(y),max(x),max(y)]\n",
    "    else:\n",
    "        x,y = [],[]\n",
    "        for vertex in vertices:\n",
    "            if 'x' in vertex and vertex['x'] not in x:\n",
    "                x.append(int(vertex['x'] * width))\n",
    "            if 'y' in vertex and vertex['y'] not in y:\n",
    "                y.append(int(vertex['y'] * height))\n",
    "        boundaries = [min(x),min(y),max(x),max(y)]\n",
    "\n",
    "    return boundaries"
   ]
  },
  {
   "cell_type": "code",
   "execution_count": 27,
   "id": "unnecessary-holiday",
   "metadata": {},
   "outputs": [],
   "source": [
    "doc_text = doc_response['text']\n",
    "page = doc_response['pages'][0]\n",
    "page_dimensions = get_page_dimensions(doc_response)\n",
    "width, height = page_dimensions[f\"page_1\"]\n",
    "\n",
    "line_info_dict = {'line_no':[],'line_text':[],'x_min':[],'x_max':[],'y_min':[],'y_max':[]}  #{\"line_1\":{\"boundaries\":{\"x_min\":val,\"y_min\":val,\"x_max\":val,\"y_max\":val},\"text\":\"\"}}\n",
    "for idx,line in enumerate(page['lines']):\n",
    "    line_no = f\"line_{idx+1}\"\n",
    "    #line_info_dict[key] = {}\n",
    "    line_info_dict['line_no'].append(line_no)\n",
    "\n",
    "    vertices = line['layout']['boundingPoly']['normalizedVertices']\n",
    "    boundaries = get_bbox_boundaries(vertices,width=width, height=height) #boundaries: [x_min, y_min, x_max, y_max]\n",
    "\n",
    "    # line_info_dict[key][\"boundaries\"] = {\"x_min\":boundaries[0], \"y_min\":boundaries[1], \"x_max\":boundaries[2],\n",
    "    #                                      \"y_max\":boundaries[3]}\n",
    "    line_info_dict['x_min'].append(boundaries[0])\n",
    "    line_info_dict['y_min'].append(boundaries[1])\n",
    "    line_info_dict['x_max'].append(boundaries[2])\n",
    "    line_info_dict['y_max'].append(boundaries[3])\n",
    "\n",
    "    text_segment = line['layout']['textAnchor']['textSegments'][0]\n",
    "    startIndex = int(text_segment.get('startIndex',0))\n",
    "    endIndex = int(text_segment.get('endIndex',0))\n",
    "    #line_info_dict[key][\"text\"] = doc_text[startIndex:endIndex]\n",
    "    line_info_dict['line_text'].append(doc_text[startIndex:endIndex])\n",
    "\n",
    "line_info_df = pd.DataFrame(data=line_info_dict)"
   ]
  },
  {
   "cell_type": "code",
   "execution_count": 28,
   "id": "occupational-liquid",
   "metadata": {},
   "outputs": [
    {
     "data": {
      "text/html": [
       "<div>\n",
       "<style scoped>\n",
       "    .dataframe tbody tr th:only-of-type {\n",
       "        vertical-align: middle;\n",
       "    }\n",
       "\n",
       "    .dataframe tbody tr th {\n",
       "        vertical-align: top;\n",
       "    }\n",
       "\n",
       "    .dataframe thead th {\n",
       "        text-align: right;\n",
       "    }\n",
       "</style>\n",
       "<table border=\"1\" class=\"dataframe\">\n",
       "  <thead>\n",
       "    <tr style=\"text-align: right;\">\n",
       "      <th></th>\n",
       "      <th>line_no</th>\n",
       "      <th>line_text</th>\n",
       "      <th>x_min</th>\n",
       "      <th>x_max</th>\n",
       "      <th>y_min</th>\n",
       "      <th>y_max</th>\n",
       "    </tr>\n",
       "  </thead>\n",
       "  <tbody>\n",
       "    <tr>\n",
       "      <th>0</th>\n",
       "      <td>line_1</td>\n",
       "      <td>7/9/2021\\n</td>\n",
       "      <td>77</td>\n",
       "      <td>158</td>\n",
       "      <td>42</td>\n",
       "      <td>64</td>\n",
       "    </tr>\n",
       "    <tr>\n",
       "      <th>1</th>\n",
       "      <td>line_2</td>\n",
       "      <td>12340987-1.jpg\\n</td>\n",
       "      <td>852</td>\n",
       "      <td>1005</td>\n",
       "      <td>39</td>\n",
       "      <td>69</td>\n",
       "    </tr>\n",
       "    <tr>\n",
       "      <th>2</th>\n",
       "      <td>line_3</td>\n",
       "      <td>Spring ML\\n</td>\n",
       "      <td>282</td>\n",
       "      <td>570</td>\n",
       "      <td>144</td>\n",
       "      <td>235</td>\n",
       "    </tr>\n",
       "    <tr>\n",
       "      <th>3</th>\n",
       "      <td>line_4</td>\n",
       "      <td>INVOICE\\n</td>\n",
       "      <td>1244</td>\n",
       "      <td>1524</td>\n",
       "      <td>170</td>\n",
       "      <td>233</td>\n",
       "    </tr>\n",
       "    <tr>\n",
       "      <th>4</th>\n",
       "      <td>line_5</td>\n",
       "      <td># 12340987\\n</td>\n",
       "      <td>1359</td>\n",
       "      <td>1518</td>\n",
       "      <td>253</td>\n",
       "      <td>281</td>\n",
       "    </tr>\n",
       "  </tbody>\n",
       "</table>\n",
       "</div>"
      ],
      "text/plain": [
       "  line_no         line_text  x_min  x_max  y_min  y_max\n",
       "0  line_1        7/9/2021\\n     77    158     42     64\n",
       "1  line_2  12340987-1.jpg\\n    852   1005     39     69\n",
       "2  line_3       Spring ML\\n    282    570    144    235\n",
       "3  line_4         INVOICE\\n   1244   1524    170    233\n",
       "4  line_5      # 12340987\\n   1359   1518    253    281"
      ]
     },
     "execution_count": 28,
     "metadata": {},
     "output_type": "execute_result"
    }
   ],
   "source": [
    "line_info_df.head()"
   ]
  },
  {
   "cell_type": "code",
   "execution_count": 29,
   "id": "covered-tournament",
   "metadata": {},
   "outputs": [],
   "source": [
    "class Point:\n",
    "    def __init__(self,x,y):\n",
    "        self.x = x\n",
    "        self.y = y\n",
    "\n",
    "def calculate_euclidean_distance(p1,p2):\n",
    "    import numpy as np\n",
    "    from math import sqrt\n",
    "    return sqrt((p1.x-p2.x)**2 + (p1.y-p2.y)**2)"
   ]
  },
  {
   "cell_type": "code",
   "execution_count": 30,
   "id": "flying-climate",
   "metadata": {},
   "outputs": [],
   "source": [
    "def add_euclidean_col(row, reference_coords):\n",
    "    #print(\"####\")\n",
    "    #print(row.index)\n",
    "    p = Point((row['x_max']+row['x_min'])/2, row['y_min'])\n",
    "    #p = Point((row.x_max - row.x_min)/2, row.y_min)\n",
    "    p_ref = Point((reference_coords['x_max']+reference_coords['x_min'])/2, reference_coords['y_min'])\n",
    "    return calculate_euclidean_distance(p_ref, p)\n",
    "    \n",
    "\n",
    "\n",
    "def get_nearest_value_for_key(df, key_text, key_coordinates, val_lookup_loc='right'):\n",
    "    #key_coordinates = (x_min, y_min)\n",
    "    x_min, y_min, x_max, y_max = key_coordinates[0], key_coordinates[1], key_coordinates[2], key_coordinates[3]\n",
    "    val = ''\n",
    "    if val_lookup_loc == 'right':\n",
    "        possible_values_df = df[(df['y_min']>=y_min-3) & (df['y_min']<=y_min+3) \\\n",
    "                                & (df['x_min']>x_min)][df['line_text']!=key_text]\n",
    "        possible_values_list = np.array(possible_values_df).tolist()\n",
    "        #print(\"Possible values list \", possible_values_list)\n",
    "        if len(possible_values_list)==0:\n",
    "            val = ''\n",
    "        if len(possible_values_list) >= 1:\n",
    "            sorted_possible_values_list = sorted(possible_values_list, key=lambda x: x[2]-x_min)\n",
    "            #print(\"Sorted possible values list \", sorted_possible_values_list)\n",
    "            val = sorted_possible_values_list[0][1].replace('\\n','')\n",
    "    elif val_lookup_loc == 'bottom':\n",
    "        reference_coords = {'x_min':x_min,'x_max':x_max,'y_min':y_min,'y_max':y_max}\n",
    "        df_copy = df[df['y_min']>y_min][df['line_text']!=key_text].copy().reset_index()\n",
    "        df_copy['euclidean_dist'] = df_copy.apply(lambda row: add_euclidean_col(row, reference_coords), axis=1)\n",
    "        #print(np.array(df_copy).tolist())\n",
    "        #print(df_copy)\n",
    "        minvalueIndexLabel = df_copy['euclidean_dist'].idxmin()\n",
    "        #print(\"minvalueIndexLabel: \",minvalueIndexLabel)\n",
    "        #val = df_copy.iloc[minvalueIndexLabel['euclidean_dist']]['line_text']\n",
    "        val = df_copy.iloc[minvalueIndexLabel]['line_text'].replace('\\n','')\n",
    "        #print(val)\n",
    "    else:\n",
    "        val = ''\n",
    "    return val  "
   ]
  },
  {
   "cell_type": "code",
   "execution_count": 31,
   "id": "internal-bennett",
   "metadata": {},
   "outputs": [],
   "source": [
    "results = {}\n",
    "\n",
    "for index,row in line_info_df.iterrows():\n",
    "    curr_line_text = row['line_text'].lower().replace('\\n','')\n",
    "    #curr_line_coordinates = {'x_min':row['x_min'],'y_min':row['y_min'],'x_max':row['x_max'],'y_max':row['y_max']}\n",
    "    curr_line_coordinates = [row['x_min'], row['y_min'], row['x_max'], row['y_max']]\n",
    "    #print(f\"Current line:{curr_line_text}\")\n",
    "    for key in template.keys():\n",
    "        #print(f\"\\tKey:{key}\")\n",
    "        synonyms = template[key]['synonyms']\n",
    "        #print(f\"\\tSynonyms:{synonyms}\")\n",
    "        match_ratio = [fuzz.ratio(curr_line_text,synonym.lower()) for synonym in synonyms]\n",
    "        #print(f\"\\tRatios: {match_ratio}\")\n",
    "        if any([True if ratio>=95 else False for ratio in match_ratio]):\n",
    "            #print(f\"Match found for {synonyms} with text {curr_line_text}\")\n",
    "            if 'right' in template[key]['locations']:\n",
    "                right_value = get_nearest_value_for_key(line_info_df, curr_line_text, curr_line_coordinates, val_lookup_loc='right')\n",
    "                #print(f\"Value fetched from right side: {right_value}\")\n",
    "            if 'bottom' in template[key]['locations']:\n",
    "                bottom_value = get_nearest_value_for_key(line_info_df, curr_line_text, curr_line_coordinates, val_lookup_loc='bottom')\n",
    "                #print(f\"Value fetched from bottom side: {bottom_value}\")\n",
    "            if key not in results:\n",
    "                if len(right_value) > 0:\n",
    "                    results[key] = right_value\n",
    "                    break\n",
    "                if len(bottom_value) > 0:\n",
    "                    results[key] = bottom_value\n",
    "                    break\n",
    "            else:\n",
    "                break"
   ]
  },
  {
   "cell_type": "code",
   "execution_count": 32,
   "id": "level-broad",
   "metadata": {},
   "outputs": [
    {
     "data": {
      "text/plain": [
       "{'Invoice Number': '# 12340987',\n",
       " 'From': 'Kumar Sharma',\n",
       " 'Bill To': 'Samantha Adele',\n",
       " 'Invoice Date': 'Jul 11, 2019',\n",
       " 'Due Date': 'Jul 15, 2019',\n",
       " 'Due Amount': '$1,909.22',\n",
       " 'Total Amount': '$6,909.22'}"
      ]
     },
     "execution_count": 32,
     "metadata": {},
     "output_type": "execute_result"
    }
   ],
   "source": [
    "results"
   ]
  },
  {
   "cell_type": "code",
   "execution_count": null,
   "id": "framed-madness",
   "metadata": {},
   "outputs": [],
   "source": []
  }
 ],
 "metadata": {
  "kernelspec": {
   "display_name": "Python 3",
   "language": "python",
   "name": "python3"
  },
  "language_info": {
   "codemirror_mode": {
    "name": "ipython",
    "version": 3
   },
   "file_extension": ".py",
   "mimetype": "text/x-python",
   "name": "python",
   "nbconvert_exporter": "python",
   "pygments_lexer": "ipython3",
   "version": "3.8.8"
  }
 },
 "nbformat": 4,
 "nbformat_minor": 5
}
